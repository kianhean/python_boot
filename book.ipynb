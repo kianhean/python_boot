{
 "cells": [
  {
   "cell_type": "markdown",
   "metadata": {},
   "source": [
    "# Python BootCamp \n",
    "Updated 30 June 2017\n",
    "\n",
    "\n",
    "## 1. Installation\n",
    "\n",
    "\n",
    "### Installing OSX\n",
    "\n",
    "#### Open Terminal\n",
    "```\n",
    "# install python\n",
    "brew update\n",
    "brew install python3\n",
    " \n",
    "# install and upgrade some essential packages\n",
    "pip install --upgrade pip setuptools pipenv\n",
    " \n",
    "# optionally install some handy development tools\n",
    "pip install flake8 autopep8 ipython cookiecutter\n",
    "\n",
    "# data tools!\n",
    "pip3 install jupyter pandas\n",
    "```\n",
    "\n",
    "### Installing Windows\n",
    "\n",
    "Using Portable Versions\n",
    "\n",
    "https://github.com/winpython/winpython/releases"
   ]
  },
  {
   "cell_type": "markdown",
   "metadata": {},
   "source": [
    "![alt text](https://unsplash.it/1024/300/?random)\n",
    "\n",
    "\n",
    "\n",
    "## 2. Introduction to Python\n",
    "\n",
    "\n",
    "### Why Python\n",
    "\n",
    "* Easy\n",
    "\n",
    "* Fast\n",
    "\n",
    "* Web/Data Science/Bots/Scraping\n",
    "\n",
    "https://www.codefellows.org/blog/5-reasons-why-python-is-powerful-enough-for-google/\n",
    "\n",
    "http://blog.trinket.io/why-python/\n",
    "\n",
    "https://www.codeschool.com/blog/2016/01/27/why-python/\n",
    "\n",
    "\n",
    "#### Python Slow?\n",
    "\n",
    "https://hackernoon.com/yes-python-is-slow-and-i-dont-care-13763980b5a1\n",
    "\n",
    "https://modelingguru.nasa.gov/docs/DOC-2625\n",
    "\n",
    "#### Python 3 or 2?\n",
    "\n",
    "https://www.fullstackpython.com/python-2-or-3.html\n",
    "\n",
    "https://www.digitalocean.com/community/tutorials/python-2-vs-python-3-practical-considerations-2\n",
    "\n",
    "\n",
    "### Resources\n",
    "\n",
    "#### Theory\n",
    "\n",
    "http://www.fullstackpython.com/best-python-resources.html\n",
    "\n",
    "http://www.fullstackpython.com/table-of-contents.html\n",
    "\n",
    "####  Code\n",
    "\n",
    "https://learnpythonthehardway.org/book/\n",
    "\n",
    "https://learnxinyminutes.com/docs/python3/"
   ]
  },
  {
   "cell_type": "markdown",
   "metadata": {},
   "source": [
    "![alt text](https://unsplash.it/1024/300/?random)\n",
    "\n",
    "\n",
    "## 3. Strings\n",
    "A string is a sequence of one or more characters (letters, numbers, symbols) that can be either a constant or a variable. Because text is such a common form of data that we use in everyday life, the string data type is a very important building block of programming. \n",
    "\n",
    "#### Variable Names\n",
    "\n",
    "<table class=\"pure-table\"><thead>\n",
    "<tr>\n",
    "<th>Valid</th>\n",
    "<th>Invalid</th>\n",
    "<th>Why Invalid</th>\n",
    "</tr>\n",
    "</thead><tbody>\n",
    "<tr>\n",
    "<td>my_int</td>\n",
    "<td>my-int</td>\n",
    "<td>Hyphens are not permitted</td>\n",
    "</tr>\n",
    "<tr>\n",
    "<td>int4</td>\n",
    "<td>4int</td>\n",
    "<td>Cannot begin with a number</td>\n",
    "</tr>\n",
    "<tr>\n",
    "<td>MY_INT</td>\n",
    "<td>$MY_INT</td>\n",
    "<td>Cannot use symbols other than <code>_</code></td>\n",
    "</tr>\n",
    "<tr>\n",
    "<td>another_int</td>\n",
    "<td>another int</td>\n",
    "<td>Cannot be more than one word</td>\n",
    "</tr>\n",
    "</tbody></table>\n",
    "\n",
    "### 3.1 Creating Strings\n",
    "\n",
    "#### Comments\n",
    "\n",
    "Comments in Python begin with a hash mark (#) and whitespace character and continue to the end of the line.\n",
    "\n",
    "Because comments do not execute, when you run a program you will not see any indication of the comment there. Comments are in the source code for humans to read, not for computers to execute."
   ]
  },
  {
   "cell_type": "code",
   "execution_count": 331,
   "metadata": {
    "collapsed": true
   },
   "outputs": [],
   "source": [
    "# Comment! This is Ignored!"
   ]
  },
  {
   "cell_type": "code",
   "execution_count": 332,
   "metadata": {
    "collapsed": false
   },
   "outputs": [
    {
     "data": {
      "text/plain": [
       "' Multiline strings can be written\\n    using three \"s, and are often used\\n    as comments\\n'"
      ]
     },
     "execution_count": 332,
     "metadata": {},
     "output_type": "execute_result"
    }
   ],
   "source": [
    "\"\"\" Multiline strings can be written\n",
    "    using three \"s, and are often used\n",
    "    as comments\n",
    "\"\"\""
   ]
  },
  {
   "cell_type": "code",
   "execution_count": 333,
   "metadata": {
    "collapsed": false
   },
   "outputs": [
    {
     "data": {
      "text/plain": [
       "'hello'"
      ]
     },
     "execution_count": 333,
     "metadata": {},
     "output_type": "execute_result"
    }
   ],
   "source": [
    "# Strings are created with \" or '\n",
    "string = 'hello'\n",
    "string"
   ]
  },
  {
   "cell_type": "code",
   "execution_count": 334,
   "metadata": {
    "collapsed": false
   },
   "outputs": [
    {
     "data": {
      "text/plain": [
       "'There once lived in a town of Persia two brothers, one named Cassim and the other Ali Baba. Their father divided a small inheritance equally between them. Cassim married a very rich wife, and became a wealthy merchant. Ali Baba married a woman as poor as himself, and lived by cutting wood, and bringing it upon three asses into the town to sell.'"
      ]
     },
     "execution_count": 334,
     "metadata": {},
     "output_type": "execute_result"
    }
   ],
   "source": [
    "# Longer Strings!\n",
    "story = \"\"\"There once lived in a town of Persia two brothers, one named Cassim and the other Ali Baba. Their father divided a small inheritance equally between them. Cassim married a very rich wife, and became a wealthy merchant. Ali Baba married a woman as poor as himself, and lived by cutting wood, and bringing it upon three asses into the town to sell.\"\"\"\n",
    "story"
   ]
  },
  {
   "cell_type": "code",
   "execution_count": 335,
   "metadata": {
    "collapsed": false
   },
   "outputs": [
    {
     "data": {
      "text/plain": [
       "' hello \\nthere'"
      ]
     },
     "execution_count": 335,
     "metadata": {},
     "output_type": "execute_result"
    }
   ],
   "source": [
    "# A Line break is a string!\n",
    "string = \"\"\" hello \n",
    "there\"\"\"\n",
    "\n",
    "string"
   ]
  },
  {
   "cell_type": "markdown",
   "metadata": {},
   "source": [
    "### 3.2 Joining Strings"
   ]
  },
  {
   "cell_type": "code",
   "execution_count": 336,
   "metadata": {
    "collapsed": false
   },
   "outputs": [
    {
     "data": {
      "text/plain": [
       "'hello world!'"
      ]
     },
     "execution_count": 336,
     "metadata": {},
     "output_type": "execute_result"
    }
   ],
   "source": [
    "# Joining strings\n",
    "string = 'hello ' + 'world'\n",
    "string = string + \"!\"\n",
    "string"
   ]
  },
  {
   "cell_type": "code",
   "execution_count": 337,
   "metadata": {
    "collapsed": false
   },
   "outputs": [
    {
     "data": {
      "text/plain": [
       "'hello world!'"
      ]
     },
     "execution_count": 337,
     "metadata": {},
     "output_type": "execute_result"
    }
   ],
   "source": [
    "# Same result as above (Shortcut)\n",
    "string = 'hello ' + 'world'\n",
    "string += \"!\"\n",
    "string"
   ]
  },
  {
   "cell_type": "markdown",
   "metadata": {},
   "source": [
    "### 3.3 Indexing (selecting stuff)\n",
    "\n",
    "![alt text](https://developers.google.com/edu/python/images/hello.png \"Logo Title Text 1\")"
   ]
  },
  {
   "cell_type": "code",
   "execution_count": 338,
   "metadata": {
    "collapsed": false
   },
   "outputs": [
    {
     "data": {
      "text/plain": [
       "'hello world!'"
      ]
     },
     "execution_count": 338,
     "metadata": {},
     "output_type": "execute_result"
    }
   ],
   "source": [
    "string[:]"
   ]
  },
  {
   "cell_type": "code",
   "execution_count": 339,
   "metadata": {
    "collapsed": false
   },
   "outputs": [
    {
     "data": {
      "text/plain": [
       "'h'"
      ]
     },
     "execution_count": 339,
     "metadata": {},
     "output_type": "execute_result"
    }
   ],
   "source": [
    "string[0] # starts from 0"
   ]
  },
  {
   "cell_type": "code",
   "execution_count": 340,
   "metadata": {
    "collapsed": false
   },
   "outputs": [
    {
     "data": {
      "text/plain": [
       "'hell'"
      ]
     },
     "execution_count": 340,
     "metadata": {},
     "output_type": "execute_result"
    }
   ],
   "source": [
    "string[:4] # everything from 0 until 4 not inclusive"
   ]
  },
  {
   "cell_type": "code",
   "execution_count": 341,
   "metadata": {
    "collapsed": false
   },
   "outputs": [
    {
     "data": {
      "text/plain": [
       "'o world!'"
      ]
     },
     "execution_count": 341,
     "metadata": {},
     "output_type": "execute_result"
    }
   ],
   "source": [
    "string[4:] # 4 till the end"
   ]
  },
  {
   "cell_type": "code",
   "execution_count": 342,
   "metadata": {
    "collapsed": false
   },
   "outputs": [
    {
     "data": {
      "text/plain": [
       "'hello world'"
      ]
     },
     "execution_count": 342,
     "metadata": {},
     "output_type": "execute_result"
    }
   ],
   "source": [
    "string[:-1] # everything until last element not inclusive"
   ]
  },
  {
   "cell_type": "markdown",
   "metadata": {},
   "source": [
    "### 3.4 String Methods (Actions)\n",
    "\n",
    "Python has several built-in functions associated with the string data type. These functions let us easily modify and manipulate strings. We can think of functions as being actions that we perform on elements of our code. Built-in functions are those that are defined in the Python programming language and are readily available for us to use."
   ]
  },
  {
   "cell_type": "code",
   "execution_count": 343,
   "metadata": {
    "collapsed": false
   },
   "outputs": [
    {
     "data": {
      "text/plain": [
       "'hello world!'"
      ]
     },
     "execution_count": 343,
     "metadata": {},
     "output_type": "execute_result"
    }
   ],
   "source": [
    "string"
   ]
  },
  {
   "cell_type": "markdown",
   "metadata": {},
   "source": [
    "The functions str.upper() and str.lower() will return a string with all the letters of an original string converted to upper- or lower-case letters. Because strings are immutable data types, the returned string will be a new string. Any characters in the string that are not letters will not be changed."
   ]
  },
  {
   "cell_type": "code",
   "execution_count": 344,
   "metadata": {
    "collapsed": false
   },
   "outputs": [
    {
     "data": {
      "text/plain": [
       "'HELLO WORLD!'"
      ]
     },
     "execution_count": 344,
     "metadata": {},
     "output_type": "execute_result"
    }
   ],
   "source": [
    "string.upper()"
   ]
  },
  {
   "cell_type": "code",
   "execution_count": 345,
   "metadata": {
    "collapsed": false
   },
   "outputs": [
    {
     "data": {
      "text/plain": [
       "'Hello World!'"
      ]
     },
     "execution_count": 345,
     "metadata": {},
     "output_type": "execute_result"
    }
   ],
   "source": [
    "string.title()"
   ]
  },
  {
   "cell_type": "code",
   "execution_count": 346,
   "metadata": {
    "collapsed": false
   },
   "outputs": [
    {
     "data": {
      "text/plain": [
       "12"
      ]
     },
     "execution_count": 346,
     "metadata": {},
     "output_type": "execute_result"
    }
   ],
   "source": [
    "len(string)"
   ]
  },
  {
   "cell_type": "markdown",
   "metadata": {},
   "source": [
    "### 3.5 Find/Replace (also a String Method)"
   ]
  },
  {
   "cell_type": "code",
   "execution_count": 347,
   "metadata": {
    "collapsed": false
   },
   "outputs": [
    {
     "data": {
      "text/plain": [
       "'hello world!'"
      ]
     },
     "execution_count": 347,
     "metadata": {},
     "output_type": "execute_result"
    }
   ],
   "source": [
    "string"
   ]
  },
  {
   "cell_type": "code",
   "execution_count": 348,
   "metadata": {
    "collapsed": false
   },
   "outputs": [
    {
     "data": {
      "text/plain": [
       "4"
      ]
     },
     "execution_count": 348,
     "metadata": {},
     "output_type": "execute_result"
    }
   ],
   "source": [
    "# Find first occcurance of o\n",
    "string.find('o')"
   ]
  },
  {
   "cell_type": "code",
   "execution_count": 349,
   "metadata": {
    "collapsed": false
   },
   "outputs": [
    {
     "data": {
      "text/plain": [
       "'hellO wOrld!'"
      ]
     },
     "execution_count": 349,
     "metadata": {},
     "output_type": "execute_result"
    }
   ],
   "source": [
    "# Replaces all occurances\n",
    "string.replace('o','O')"
   ]
  },
  {
   "cell_type": "markdown",
   "metadata": {},
   "source": [
    "### 3.6 Practice"
   ]
  },
  {
   "cell_type": "code",
   "execution_count": 350,
   "metadata": {
    "collapsed": true
   },
   "outputs": [],
   "source": [
    "story = \"\"\"There once lived in a town of Persia two brothers, one named Cassim and the other Ali Baba. Their father divided a small inheritance equally between them. Cassim married a very rich wife, and became a wealthy merchant. Ali Baba married a woman as poor as himself, and lived by cutting wood, and bringing it upon three asses into the town to sell.\"\"\""
   ]
  },
  {
   "cell_type": "code",
   "execution_count": 351,
   "metadata": {
    "collapsed": false
   },
   "outputs": [
    {
     "data": {
      "text/plain": [
       "'There once lived in a town of Persia two brothers, one named Cassim and the other Ali Baba. Their father divided a small inheritance equally between them. Cassim married a very rich wife, and became a wealthy merchant. Ali Baba married a woman as poor as himself, and lived by cutting wood, and bringing it upon three asses into the town to sell.'"
      ]
     },
     "execution_count": 351,
     "metadata": {},
     "output_type": "execute_result"
    }
   ],
   "source": [
    "story"
   ]
  },
  {
   "cell_type": "markdown",
   "metadata": {},
   "source": [
    "#### What is the Result of\n",
    "\n",
    "story[-1]\n",
    "\n",
    "story[0]\n",
    "\n",
    "story[1]\n",
    "\n",
    "#### What is output of\n",
    "\n",
    "story[6:10]\n",
    "\n",
    "\n",
    "#### What is the output of this\n",
    "story.find(\"once\")\n",
    "\n",
    "#### How do you find out the length of story?\n",
    "\n",
    "#### How do you add \" Really?\" to the end of the story?\n",
    "\n",
    "#### How do replace \"Ali Baba\" with \"John Doe\" and \"the town\" with \"Singapore\" in one line?\n",
    "\n",
    "![alt text](https://unsplash.it/1024/300/?random)\n"
   ]
  },
  {
   "cell_type": "markdown",
   "metadata": {},
   "source": [
    "## 4. Numbers\n",
    "\n",
    "In Python, like in all programming languages, data types are used to classify one particular type of data. This is important because the specific data type you use will determine what values you can assign to it and what you can do to it (including what operations you can perform on it).\n",
    "\n",
    "### 4.1 Basics\n",
    "\n",
    "One way to think about data types is to consider the different types of data that we use in the real world. An example of data in the real world are numbers: we may use whole numbers (0, 1, 2, …), integers (…, -1, 0, 1, …), and irrational numbers (π), for example.\n",
    "\n",
    "Like in math, integers in computer programming are whole numbers that can be positive, negative, or 0 (…, -1, 0, 1, …). An integer can also be known as an int. As with other programming languages, you should not use commas in numbers of four digits or more, so when you write 1,000 in your program, write it as 1000."
   ]
  },
  {
   "cell_type": "code",
   "execution_count": 352,
   "metadata": {
    "collapsed": false
   },
   "outputs": [
    {
     "data": {
      "text/plain": [
       "4"
      ]
     },
     "execution_count": 352,
     "metadata": {},
     "output_type": "execute_result"
    }
   ],
   "source": [
    "# Addition\n",
    "number = 2 + 2\n",
    "number"
   ]
  },
  {
   "cell_type": "code",
   "execution_count": 353,
   "metadata": {
    "collapsed": false
   },
   "outputs": [
    {
     "data": {
      "text/plain": [
       "4"
      ]
     },
     "execution_count": 353,
     "metadata": {},
     "output_type": "execute_result"
    }
   ],
   "source": [
    "# Same result as above (Shortcut)\n",
    "number = 2\n",
    "number += 2\n",
    "number"
   ]
  },
  {
   "cell_type": "code",
   "execution_count": 354,
   "metadata": {
    "collapsed": false
   },
   "outputs": [
    {
     "data": {
      "text/plain": [
       "'22'"
      ]
     },
     "execution_count": 354,
     "metadata": {},
     "output_type": "execute_result"
    }
   ],
   "source": [
    "# Difference?\n",
    "# For computers, each data type can be thought of as being quite different, like words and numbers, \n",
    "# so we will have to be careful about how we use them to assign values and how we manipulate them through operations.\n",
    "\n",
    "number = '2' + '2'\n",
    "number"
   ]
  },
  {
   "cell_type": "markdown",
   "metadata": {},
   "source": [
    "### 4.2 Floats\n",
    "\n",
    "Any number you enter in Python will be interpreted as a number; you are not required to declare what kind of data type you are entering. Python will consider any number written without decimals as an integer (as in 138) and any number written with decimals as a float (as in 138.0).\n",
    "\n",
    "A floating-point number or a float is a real number, meaning that it can be either a rational or an irrational number. Because of this, floating-point numbers can be numbers that can contain a fractional part, such as 9.0 or -116.42. Simply speaking, for the purposes of thinking of a float in a Python program, it is a number that contains a decimal point."
   ]
  },
  {
   "cell_type": "code",
   "execution_count": 355,
   "metadata": {
    "collapsed": false
   },
   "outputs": [
    {
     "data": {
      "text/plain": [
       "int"
      ]
     },
     "execution_count": 355,
     "metadata": {},
     "output_type": "execute_result"
    }
   ],
   "source": [
    "x = 4\n",
    "type(x)"
   ]
  },
  {
   "cell_type": "code",
   "execution_count": 356,
   "metadata": {
    "collapsed": false
   },
   "outputs": [
    {
     "data": {
      "text/plain": [
       "float"
      ]
     },
     "execution_count": 356,
     "metadata": {},
     "output_type": "execute_result"
    }
   ],
   "source": [
    "type(x/1)"
   ]
  },
  {
   "cell_type": "code",
   "execution_count": 357,
   "metadata": {
    "collapsed": false
   },
   "outputs": [
    {
     "data": {
      "text/plain": [
       "float"
      ]
     },
     "execution_count": 357,
     "metadata": {},
     "output_type": "execute_result"
    }
   ],
   "source": [
    "type(4.1)"
   ]
  },
  {
   "cell_type": "markdown",
   "metadata": {},
   "source": [
    "### 4.3 Int/Float Methods"
   ]
  },
  {
   "cell_type": "code",
   "execution_count": 358,
   "metadata": {
    "collapsed": false
   },
   "outputs": [
    {
     "data": {
      "text/plain": [
       "4.55"
      ]
     },
     "execution_count": 358,
     "metadata": {},
     "output_type": "execute_result"
    }
   ],
   "source": [
    "round(4.5523234,2)"
   ]
  },
  {
   "cell_type": "markdown",
   "metadata": {},
   "source": [
    "### 4.4 Libraries\n",
    "\n",
    "THE LIBRARY\n",
    "\n",
    "https://github-serendipity.github.io/repo/vinta___awesome-python\n",
    "\n",
    "Shorter List\n",
    "\n",
    "https://pythontips.com/2013/07/30/20-python-libraries-you-cant-live-without/"
   ]
  },
  {
   "cell_type": "code",
   "execution_count": 359,
   "metadata": {
    "collapsed": false
   },
   "outputs": [
    {
     "data": {
      "text/plain": [
       "4.0"
      ]
     },
     "execution_count": 359,
     "metadata": {},
     "output_type": "execute_result"
    }
   ],
   "source": [
    "# You can import modules\n",
    "import math\n",
    "math.sqrt(16)"
   ]
  },
  {
   "cell_type": "code",
   "execution_count": 360,
   "metadata": {
    "collapsed": false
   },
   "outputs": [
    {
     "data": {
      "text/plain": [
       "4"
      ]
     },
     "execution_count": 360,
     "metadata": {},
     "output_type": "execute_result"
    }
   ],
   "source": [
    "# You can get specific functions from a module\n",
    "from math import ceil, floor\n",
    "ceil(3.7)"
   ]
  },
  {
   "cell_type": "code",
   "execution_count": 361,
   "metadata": {
    "collapsed": false
   },
   "outputs": [
    {
     "data": {
      "text/plain": [
       "3"
      ]
     },
     "execution_count": 361,
     "metadata": {},
     "output_type": "execute_result"
    }
   ],
   "source": [
    "floor(3.7)"
   ]
  },
  {
   "cell_type": "code",
   "execution_count": 362,
   "metadata": {
    "collapsed": true
   },
   "outputs": [],
   "source": [
    "# You can import all functions from a module.\n",
    "# Warning: this is not recommended\n",
    "from math import *\n",
    "\n",
    "# You can shorten module names\n",
    "import math as m"
   ]
  },
  {
   "cell_type": "code",
   "execution_count": 363,
   "metadata": {
    "collapsed": false
   },
   "outputs": [
    {
     "data": {
      "text/plain": [
       "4.0"
      ]
     },
     "execution_count": 363,
     "metadata": {},
     "output_type": "execute_result"
    }
   ],
   "source": [
    "# Now as a shortcut\n",
    "m.sqrt(16)"
   ]
  },
  {
   "cell_type": "markdown",
   "metadata": {},
   "source": [
    "### 4.6 Practice\n",
    "\n",
    "#### Result of the following?\n",
    "\n",
    "type(1 + 3/2)\n",
    "\n",
    "#### Result of the following?\n",
    "\n",
    "x = 4\n",
    "\n",
    "X += 6\n",
    "\n",
    "#### Difference between\n",
    "\n",
    "width = 20\n",
    "\n",
    "#### and\n",
    "\n",
    "width"
   ]
  },
  {
   "cell_type": "markdown",
   "metadata": {},
   "source": [
    "### RECALL"
   ]
  },
  {
   "cell_type": "markdown",
   "metadata": {},
   "source": [
    "#### Comments\n",
    "```\n",
    "#comment\n",
    "\n",
    "\"\"\"\n",
    "long\n",
    "comment\n",
    "\"\"\"\n",
    "```\n",
    "\n",
    "#### Strings\n",
    "```\n",
    "x = 'hello'\n",
    "x[1]\n",
    "x[2:4]\n",
    "x = 'hello' + ' world'\n",
    "x.upper()\n",
    "\n",
    "```\n",
    "\n",
    "#### Numbers\n",
    "```\n",
    "x = 5\n",
    "x + 6\n",
    "x / 1\n",
    "\n",
    "```"
   ]
  },
  {
   "cell_type": "markdown",
   "metadata": {
    "collapsed": true
   },
   "source": [
    "![alt text](https://unsplash.it/1024/300/?random)\n",
    "\n",
    "\n",
    "## 5. Lists\n",
    "\n",
    "A list is a mutable, or changeable, ordered sequence of elements. Each element or value that is inside of a list is called an item. Just as strings are defined as characters between quotes, lists are defined by having values between square brackets [ ]\n",
    "\n",
    "### 5.1 Creation\n",
    "\n",
    "Lists are a very flexible data type because they are mutable in that they can have values added, removed, and changed. There is a data type that is similar to lists but that can’t be changed, and that is called a tuple."
   ]
  },
  {
   "cell_type": "code",
   "execution_count": 364,
   "metadata": {
    "collapsed": false
   },
   "outputs": [
    {
     "data": {
      "text/plain": [
       "['shark', 'cuttlefish', 'squid', 'mantis shrimp']"
      ]
     },
     "execution_count": 364,
     "metadata": {},
     "output_type": "execute_result"
    }
   ],
   "source": [
    "sea_creatures = ['shark', 'cuttlefish', 'squid', 'mantis shrimp']\n",
    "sea_creatures"
   ]
  },
  {
   "cell_type": "code",
   "execution_count": 365,
   "metadata": {
    "collapsed": false
   },
   "outputs": [
    {
     "data": {
      "text/plain": [
       "['shark', 'cuttlefish', 'squid', 'mantis shrimp', 'crab']"
      ]
     },
     "execution_count": 365,
     "metadata": {},
     "output_type": "execute_result"
    }
   ],
   "source": [
    "# Appending\n",
    "sea_creatures.append('crab')\n",
    "sea_creatures"
   ]
  },
  {
   "cell_type": "code",
   "execution_count": 366,
   "metadata": {
    "collapsed": false
   },
   "outputs": [
    {
     "data": {
      "text/plain": [
       "['shark', 'cuttlefish', 'squid', 'mantis shrimp', 'crab', 1000]"
      ]
     },
     "execution_count": 366,
     "metadata": {},
     "output_type": "execute_result"
    }
   ],
   "source": [
    "# Can be any type\n",
    "sea_creatures.append(1000)\n",
    "sea_creatures"
   ]
  },
  {
   "cell_type": "code",
   "execution_count": 367,
   "metadata": {
    "collapsed": false
   },
   "outputs": [
    {
     "data": {
      "text/plain": [
       "['shark', 'cuttlefish', 'squid', 'mantis shrimp', 'crab', 1000, ['dog', 'cat']]"
      ]
     },
     "execution_count": 367,
     "metadata": {},
     "output_type": "execute_result"
    }
   ],
   "source": [
    "# Can be any type even another list\n",
    "list_example = ['dog', 'cat']\n",
    "sea_creatures.append(list_example)\n",
    "sea_creatures"
   ]
  },
  {
   "cell_type": "markdown",
   "metadata": {},
   "source": [
    "### 5.2 Indexing"
   ]
  },
  {
   "cell_type": "code",
   "execution_count": 368,
   "metadata": {
    "collapsed": false
   },
   "outputs": [
    {
     "data": {
      "text/plain": [
       "['shark', 'cuttlefish', 'squid', 'mantis shrimp', 'crab', 1000, ['dog', 'cat']]"
      ]
     },
     "execution_count": 368,
     "metadata": {},
     "output_type": "execute_result"
    }
   ],
   "source": [
    "sea_creatures"
   ]
  },
  {
   "cell_type": "code",
   "execution_count": 369,
   "metadata": {
    "collapsed": false
   },
   "outputs": [
    {
     "data": {
      "text/plain": [
       "'shark'"
      ]
     },
     "execution_count": 369,
     "metadata": {},
     "output_type": "execute_result"
    }
   ],
   "source": [
    "sea_creatures\n",
    "sea_creatures[0]"
   ]
  },
  {
   "cell_type": "code",
   "execution_count": 370,
   "metadata": {
    "collapsed": false
   },
   "outputs": [
    {
     "data": {
      "text/plain": [
       "['shark', 'cuttlefish', 'squid', 'mantis shrimp', 'crab', 1000]"
      ]
     },
     "execution_count": 370,
     "metadata": {},
     "output_type": "execute_result"
    }
   ],
   "source": [
    "# : still works as expected!\n",
    "sea_creatures\n",
    "sea_creatures[:-1]"
   ]
  },
  {
   "cell_type": "markdown",
   "metadata": {},
   "source": [
    "### 5.3 List Methods\n",
    "\n",
    "Already covered this above\n",
    "\n",
    "list.append()\n",
    "\n",
    "#### list.insert(position, item)"
   ]
  },
  {
   "cell_type": "code",
   "execution_count": 371,
   "metadata": {
    "collapsed": false
   },
   "outputs": [
    {
     "name": "stdout",
     "output_type": "stream",
     "text": [
      "['anchovy', 'shark', 'cuttlefish', 'squid', 'mantis shrimp', 'crab']\n"
     ]
    }
   ],
   "source": [
    "sea_creatures = ['shark', 'cuttlefish', 'squid', 'mantis shrimp', 'crab']\n",
    "sea_creatures.insert(0,'anchovy')\n",
    "print(sea_creatures)"
   ]
  },
  {
   "cell_type": "markdown",
   "metadata": {},
   "source": [
    "#### list.extend(newlist)"
   ]
  },
  {
   "cell_type": "code",
   "execution_count": 372,
   "metadata": {
    "collapsed": false
   },
   "outputs": [
    {
     "name": "stdout",
     "output_type": "stream",
     "text": [
      "['anchovy', 'shark', 'cuttlefish', 'squid', 'mantis shrimp', 'crab', 'goby', 'herring', 'ide', 'kissing gourami']\n"
     ]
    }
   ],
   "source": [
    "more_fish = ['goby','herring','ide','kissing gourami']\n",
    "sea_creatures.extend(more_fish)\n",
    "print(sea_creatures)"
   ]
  },
  {
   "cell_type": "markdown",
   "metadata": {},
   "source": [
    "### 5.4 Practice\n",
    "\n",
    "### Output of\n",
    "```\n",
    "list_ = []\n",
    "list_.append(100)\n",
    "```\n",
    "\n",
    "\n",
    "### Output of\n",
    "```\n",
    "shopping = ['milk', 'tea', 'coke']\n",
    "\n",
    "shopping[3]\n",
    "shopping[0]\n",
    "\n",
    "```"
   ]
  },
  {
   "cell_type": "markdown",
   "metadata": {},
   "source": [
    "![alt text](https://unsplash.it/1024/300/?random)\n",
    "\n",
    "\n",
    "## 6. Booleans\n",
    "\n",
    "The Boolean data type can be one of two values, either True or False. We use Booleans in programming to make comparisons and to control the flow of the program.\n",
    "\n",
    "Booleans represent the truth values that are associated with the logic branch of mathematics, which informs algorithms in computer science. Named for the mathematician George Boole, the word Boolean always begins with a capitalized B. The values True and False will also always be with a capital T and F respectively, as they are special values in Python.\n",
    "\n",
    "#### Comparison Operators\n",
    "\n",
    "<table class=\"pure-table\"><thead>\n",
    "<tr>\n",
    "<th style=\"text-align: center\">Operator</th>\n",
    "<th>What it means</th>\n",
    "</tr>\n",
    "</thead><tbody>\n",
    "<tr>\n",
    "<td style=\"text-align: center\">==</td>\n",
    "<td>Equal to</td>\n",
    "</tr>\n",
    "<tr>\n",
    "<td style=\"text-align: center\">!=</td>\n",
    "<td>Not equal to</td>\n",
    "</tr>\n",
    "<tr>\n",
    "<td style=\"text-align: center\">&lt;</td>\n",
    "<td>Less than</td>\n",
    "</tr>\n",
    "<tr>\n",
    "<td style=\"text-align: center\">&gt;</td>\n",
    "<td>Greater than</td>\n",
    "</tr>\n",
    "<tr>\n",
    "<td style=\"text-align: center\">&lt;=</td>\n",
    "<td>Less than or equal to</td>\n",
    "</tr>\n",
    "<tr>\n",
    "<td style=\"text-align: center\">&gt;=</td>\n",
    "<td>Greater than or equal to</td>\n",
    "</tr>\n",
    "</tbody></table>\n",
    "\n",
    "### 6.1 Basics\n",
    "\n"
   ]
  },
  {
   "cell_type": "code",
   "execution_count": 373,
   "metadata": {
    "collapsed": true
   },
   "outputs": [],
   "source": [
    "x = True"
   ]
  },
  {
   "cell_type": "code",
   "execution_count": 374,
   "metadata": {
    "collapsed": false
   },
   "outputs": [
    {
     "data": {
      "text/plain": [
       "bool"
      ]
     },
     "execution_count": 374,
     "metadata": {},
     "output_type": "execute_result"
    }
   ],
   "source": [
    "type(x)"
   ]
  },
  {
   "cell_type": "code",
   "execution_count": 375,
   "metadata": {
    "collapsed": false
   },
   "outputs": [
    {
     "data": {
      "text/plain": [
       "False"
      ]
     },
     "execution_count": 375,
     "metadata": {},
     "output_type": "execute_result"
    }
   ],
   "source": [
    " 5 == 7"
   ]
  },
  {
   "cell_type": "code",
   "execution_count": 376,
   "metadata": {
    "collapsed": false
   },
   "outputs": [
    {
     "name": "stdout",
     "output_type": "stream",
     "text": [
      "0\n",
      "1\n",
      "2\n",
      "3\n",
      "4\n"
     ]
    }
   ],
   "source": [
    "for i in range(0, 5):\n",
    "    print(i)"
   ]
  },
  {
   "cell_type": "code",
   "execution_count": 377,
   "metadata": {
    "collapsed": false
   },
   "outputs": [
    {
     "data": {
      "text/plain": [
       "True"
      ]
     },
     "execution_count": 377,
     "metadata": {},
     "output_type": "execute_result"
    }
   ],
   "source": [
    "5 != 7"
   ]
  },
  {
   "cell_type": "code",
   "execution_count": 378,
   "metadata": {
    "collapsed": false
   },
   "outputs": [
    {
     "data": {
      "text/plain": [
       "False"
      ]
     },
     "execution_count": 378,
     "metadata": {},
     "output_type": "execute_result"
    }
   ],
   "source": [
    "'John' == 'john'"
   ]
  },
  {
   "cell_type": "markdown",
   "metadata": {},
   "source": [
    "### 6.2 Logical Operators\n",
    "\n",
    "There are three logical operators that are used to compare values. They evaluate expressions down to Boolean values, returning either True or False. These operators are and, or, and not and are defined in the table below.\n",
    "\n",
    "Logical operators are typically used to evaluate whether two or more expressions are true or not true. For example, they can be used to determine if the grade is passing and that the student is registered in the course, and if both cases are true then the student will be assigned a grade in the system. \n",
    "\n",
    "<table class=\"pure-table\"><thead>\n",
    "<tr>\n",
    "<th style=\"text-align: center\">Operator</th>\n",
    "<th>What it means</th>\n",
    "<th>What it looks like</th>\n",
    "</tr>\n",
    "</thead><tbody>\n",
    "<tr>\n",
    "<td style=\"text-align: center\">and</td>\n",
    "<td>True if both are true</td>\n",
    "<td><code>x and y</code></td>\n",
    "</tr>\n",
    "<tr>\n",
    "<td style=\"text-align: center\">or</td>\n",
    "<td>True if at least one is true</td>\n",
    "<td><code>x or y</code></td>\n",
    "</tr>\n",
    "<tr>\n",
    "<td style=\"text-align: center\">not</td>\n",
    "<td>True only if false</td>\n",
    "<td><code>not x</code></td>\n",
    "</tr>\n",
    "</tbody></table>"
   ]
  },
  {
   "cell_type": "code",
   "execution_count": 379,
   "metadata": {
    "collapsed": false
   },
   "outputs": [
    {
     "data": {
      "text/plain": [
       "True"
      ]
     },
     "execution_count": 379,
     "metadata": {},
     "output_type": "execute_result"
    }
   ],
   "source": [
    "4 == 4 and 4 > 2"
   ]
  },
  {
   "cell_type": "code",
   "execution_count": 380,
   "metadata": {
    "collapsed": false
   },
   "outputs": [
    {
     "data": {
      "text/plain": [
       "False"
      ]
     },
     "execution_count": 380,
     "metadata": {},
     "output_type": "execute_result"
    }
   ],
   "source": [
    "4 == 4 and 4 > 6"
   ]
  },
  {
   "cell_type": "code",
   "execution_count": 381,
   "metadata": {
    "collapsed": false
   },
   "outputs": [
    {
     "data": {
      "text/plain": [
       "True"
      ]
     },
     "execution_count": 381,
     "metadata": {},
     "output_type": "execute_result"
    }
   ],
   "source": [
    "4 == 4 or 4 > 6"
   ]
  },
  {
   "cell_type": "markdown",
   "metadata": {},
   "source": [
    "### 6.3 List Comparisons"
   ]
  },
  {
   "cell_type": "code",
   "execution_count": 382,
   "metadata": {
    "collapsed": false
   },
   "outputs": [
    {
     "data": {
      "text/plain": [
       "True"
      ]
     },
     "execution_count": 382,
     "metadata": {},
     "output_type": "execute_result"
    }
   ],
   "source": [
    "list_example = [2, 'hi']\n",
    "\n",
    "2 in list_example"
   ]
  },
  {
   "cell_type": "code",
   "execution_count": 383,
   "metadata": {
    "collapsed": false
   },
   "outputs": [
    {
     "data": {
      "text/plain": [
       "True"
      ]
     },
     "execution_count": 383,
     "metadata": {},
     "output_type": "execute_result"
    }
   ],
   "source": [
    "'hi' in list_example"
   ]
  },
  {
   "cell_type": "markdown",
   "metadata": {},
   "source": [
    "### 6.4 Practice\n",
    "\n",
    "#### Result of \n",
    "\n",
    "x = 4\n",
    "\n",
    "x > 4\n",
    "\n",
    "\n",
    "#### Result of \n",
    "\n",
    "x => 4"
   ]
  },
  {
   "cell_type": "markdown",
   "metadata": {},
   "source": [
    "![alt text](https://unsplash.it/1024/300/?random)\n",
    "\n",
    "\n",
    "## 7 Loops\n",
    "\n",
    "Using loops in computer programming allows us to automate and repeat similar tasks multiple times.\n",
    "\n",
    "A for loop implements the repeated execution of code based on a loop counter or loop variable. This means that for loops are used most often when the number of iterations is known before entering the loop, unlike while loops which are conditionally based.\n",
    "\n",
    "In Python, for loops are constructed like so:\n",
    "\n",
    "```\n",
    "for [iterating variable] in [sequence]:\n",
    "    [do something]\n",
    "```\n",
    "The something that is being done will be executed until the sequence is over.\n",
    "\n",
    "This for loop sets up i as its iterating variable, and the sequence exists in the range of 0 to 5.\n",
    "\n",
    "Then within the loop we print out one integer per loop iteration. Keep in mind that in programming we tend to begin at index 0, so that is why although 5 numbers are printed out, they range from 0-4.\n",
    "\n",
    "You’ll commonly see and use for loops when a program needs to repeat a block of code a number of times.\n",
    "\n",
    "#### For Loops using range()\n",
    "\n",
    "Range(start=0, stop, step=1)\n",
    "\n",
    "When working with range(), you can pass between 1 and 3 integer arguments to it:\n",
    "\n",
    "* start states the integer value at which the sequence begins, if this is not included then start begins at 0\n",
    "* stop is always required and is the integer that is counted up to but not included\n",
    "* step sets how much to increase (or decrease in the case of negative numbers) the next iteration, if this is omitted then step defaults to 1"
   ]
  },
  {
   "cell_type": "markdown",
   "metadata": {},
   "source": [
    "### 7.1 For Loops using Sequential Data Types\n",
    "\n",
    "Lists and other data sequence types can also be leveraged as iteration parameters in for loops. Rather than iterating through a range(), you can define a list and iterate through that list.\n",
    "\n",
    "We’ll assign a list to a variable, and then iterate through the list:\n",
    "\n",
    "sharks = ['hammerhead', 'great white', 'dogfish', 'bullhead']\n",
    "\n",
    "for shark in sharks:\n",
    "   print(shark)\n",
    "In this case, we are printing out each item in the list. Though we used the variable shark, we could have called the variable any other valid variable name and we would get the same output:"
   ]
  },
  {
   "cell_type": "code",
   "execution_count": 384,
   "metadata": {
    "collapsed": false
   },
   "outputs": [],
   "source": [
    "sharks = ['hammerhead', 'great white', 'dogfish', 'bullhead']"
   ]
  },
  {
   "cell_type": "code",
   "execution_count": 385,
   "metadata": {
    "collapsed": false
   },
   "outputs": [
    {
     "name": "stdout",
     "output_type": "stream",
     "text": [
      "hammerhead\n",
      "great white\n",
      "dogfish\n",
      "bullhead\n"
     ]
    }
   ],
   "source": [
    "for shark in sharks:\n",
    "    print(shark)"
   ]
  },
  {
   "cell_type": "code",
   "execution_count": 386,
   "metadata": {
    "collapsed": false
   },
   "outputs": [
    {
     "name": "stdout",
     "output_type": "stream",
     "text": [
      "broom costs 0.4\n",
      "mop costs 1\n",
      "towel costs 0.2\n",
      "Total Price = 1.5999999999999999\n"
     ]
    }
   ],
   "source": [
    "# More useful application\n",
    "shoppinglist = ['broom', 'mop', 'towel']\n",
    "shoppinglist_prices = [0.4, 1, 0.2]\n",
    "\n",
    "total = 0\n",
    "\n",
    "# Loop thru the shoppinglist\n",
    "for i in range(0, len(shoppinglist)):\n",
    "    print(shoppinglist[i] + ' costs ' + str(shoppinglist_prices[i]))\n",
    "    \n",
    "    total += shoppinglist_prices[i]\n",
    "    \n",
    "    # The same result as \n",
    "    #total = total + shoppinglist_prices[i]\n",
    "\n",
    "print('Total Price = ' + str(total))"
   ]
  },
  {
   "cell_type": "markdown",
   "metadata": {},
   "source": [
    "### 7.2 Nested For Loops\n",
    "\n",
    "Loops can be nested in Python, as they can with other programming languages.\n",
    "\n",
    "A nested loop is a loop that occurs within another loop, structurally similar to nested if statements. These are constructed like so:\n",
    "```\n",
    "for [first iterating variable] in [outer loop]: # Outer loop\n",
    "\n",
    "    [do something]  # Optional\n",
    "    \n",
    "    for [second iterating variable] in [nested loop]:   # Nested loop\n",
    "        [do something]  \n",
    "```\n",
    "The program first encounters the outer loop, executing its first iteration. This first iteration triggers the inner, nested loop, which then runs to completion. Then the program returns back to the top of the outer loop, completing the second iteration and again triggering the nested loop. Again, the nested loop runs to completion, and the program returns back to the top of the outer loop until the sequence is complete or a break or other statement disrupts the process.\n"
   ]
  },
  {
   "cell_type": "code",
   "execution_count": 387,
   "metadata": {
    "collapsed": false
   },
   "outputs": [
    {
     "name": "stdout",
     "output_type": "stream",
     "text": [
      "1\n",
      "a\n",
      "b\n",
      "c\n",
      "2\n",
      "a\n",
      "b\n",
      "c\n",
      "3\n",
      "a\n",
      "b\n",
      "c\n"
     ]
    }
   ],
   "source": [
    "num_list = [1, 2, 3]\n",
    "alpha_list = ['a', 'b', 'c']\n",
    "\n",
    "for number in num_list:\n",
    "    print(number)\n",
    "    for letter in alpha_list:\n",
    "        print(letter)"
   ]
  },
  {
   "cell_type": "markdown",
   "metadata": {},
   "source": [
    "### 7.3 Practice"
   ]
  },
  {
   "cell_type": "markdown",
   "metadata": {},
   "source": [
    "#### What is the result of total?\n",
    "\n",
    "```\n",
    "sample = [1,2,3]\n",
    "\n",
    "total = 0\n",
    "for i in sample:\n",
    "    total = total + i -1\n",
    "```\n",
    "\n",
    "#### What is the result of?\n",
    "```\n",
    "list_of_lists = [ [3, 5, 1], [7, 3, 1]]\n",
    "for lists in list_of_lists:\n",
    "    for x in lists[:-1]:\n",
    "        print (x)\n",
    "```"
   ]
  },
  {
   "cell_type": "markdown",
   "metadata": {},
   "source": [
    "![alt text](https://unsplash.it/1024/300/?random)\n",
    "\n",
    "\n",
    "## 8 Conditional Statements\n",
    "\n",
    "Conditional statements are part of every programming language. With conditional statements, we can have code that sometimes runs and at other times does not run, depending on the conditions of the program at that time.\n",
    "\n",
    "When we fully execute each statement of a program, moving from the top to the bottom with each line executed in order, we are not asking the program to evaluate specific conditions. By using conditional statements, programs can determine whether certain conditions are being met and then be told what to do next.\n",
    "\n",
    "Through evaluating conditions and assigning code to run based on whether or not those conditions are met, we are writing conditional code.\n",
    "\n",
    "We will start with the if statement, which will evaluate whether a statement is true or false, and run code only in the case that the statement is true.\n",
    "\n",
    "### 8.1 If Else\n"
   ]
  },
  {
   "cell_type": "code",
   "execution_count": 388,
   "metadata": {
    "collapsed": false
   },
   "outputs": [
    {
     "name": "stdout",
     "output_type": "stream",
     "text": [
      "Failing grade\n"
     ]
    }
   ],
   "source": [
    "grade = 64\n",
    "\n",
    "if grade >= 65:                 # Condition\n",
    "    print(\"Passing grade\")      # Clause\n",
    "\n",
    "else:\n",
    "    print(\"Failing grade\")"
   ]
  },
  {
   "cell_type": "code",
   "execution_count": 389,
   "metadata": {
    "collapsed": false
   },
   "outputs": [
    {
     "name": "stdout",
     "output_type": "stream",
     "text": [
      "B Grade\n"
     ]
    }
   ],
   "source": [
    "grade = 82\n",
    "\n",
    "if grade >= 90:                 # Condition\n",
    "    print(\"A Grade\")            # Clause\n",
    "\n",
    "elif grade >= 80 and grade <90:\n",
    "    print(\"B Grade\")\n",
    "else:\n",
    "    print(\"Some Other Grade\")"
   ]
  },
  {
   "cell_type": "markdown",
   "metadata": {},
   "source": [
    "#### Comparison Operators\n",
    "\n",
    "<table class=\"pure-table\"><thead>\n",
    "<tr>\n",
    "<th style=\"text-align: center\">Operator</th>\n",
    "<th>What it means</th>\n",
    "</tr>\n",
    "</thead><tbody>\n",
    "<tr>\n",
    "<td style=\"text-align: center\">==</td>\n",
    "<td>Equal to</td>\n",
    "</tr>\n",
    "<tr>\n",
    "<td style=\"text-align: center\">!=</td>\n",
    "<td>Not equal to</td>\n",
    "</tr>\n",
    "<tr>\n",
    "<td style=\"text-align: center\">&lt;</td>\n",
    "<td>Less than</td>\n",
    "</tr>\n",
    "<tr>\n",
    "<td style=\"text-align: center\">&gt;</td>\n",
    "<td>Greater than</td>\n",
    "</tr>\n",
    "<tr>\n",
    "<td style=\"text-align: center\">&lt;=</td>\n",
    "<td>Less than or equal to</td>\n",
    "</tr>\n",
    "<tr>\n",
    "<td style=\"text-align: center\">&gt;=</td>\n",
    "<td>Greater than or equal to</td>\n",
    "</tr>\n",
    "</tbody></table>"
   ]
  },
  {
   "cell_type": "markdown",
   "metadata": {},
   "source": [
    "### 8.2 Nestled Ifs\n",
    "\n",
    "Once you are feeling comfortable with the if, elif, and else statements, you can move on to nested conditional statements. We can use nested if statements for situations where we want to check for a secondary condition if the first condition executes as true. For this, we can have an if-else statement inside of another if-else statement. Let’s look at the syntax of a nested if statement:"
   ]
  },
  {
   "cell_type": "markdown",
   "metadata": {
    "collapsed": true
   },
   "source": [
    "```\n",
    "if statement1:              #outer if statement\n",
    "    print(\"true\")\n",
    "\n",
    "    if nested_statement:    #nested if statement\n",
    "        print(\"yes\")\n",
    "\n",
    "    else                    #nested else statement\n",
    "        print(\"no\")\n",
    "\n",
    "else:                       #outer else statement\n",
    "    print(\"false\")\n",
    "```"
   ]
  },
  {
   "cell_type": "markdown",
   "metadata": {},
   "source": [
    "### 8.3 Practice\n",
    "\n",
    "#### What is the result of the following?\n",
    "```\n",
    "shoppinglist = ['soap', 'meat']\n",
    "\n",
    "for item in shoppinglist:\n",
    "    if item == 'meat':\n",
    "        print('Please pay 10.50')\n",
    "    elif item == 'towel':\n",
    "        print('Please pay 3')\n",
    "    else:\n",
    "        print('Unknown Cost')\n",
    "```\n",
    "\n",
    "#### What is the result of the following?\n",
    "```\n",
    "grade = 64\n",
    "name = 'tom'\n",
    "\n",
    "if grade >= 65:                 \n",
    "    print(\"Passing grade\") \n",
    "    \n",
    "    if name == 'tom':\n",
    "        print(\"Passing grade\")\n",
    "        \n",
    "    else:\n",
    "        print(\"Failing grade\")\n",
    "else:\n",
    "    print(\"Failing grade\")\n",
    "```\n"
   ]
  },
  {
   "cell_type": "markdown",
   "metadata": {},
   "source": [
    "![alt text](https://unsplash.it/1024/300/?random)\n",
    "\n",
    "\n",
    "## 9 Dictionaries\n",
    "\n",
    "The dictionary is Python’s built-in mapping type. This means that dictionaries map keys to values and these key-value pairs are a useful way to store data in Python. A dictionary is constructed with curly braces on either side { }.\n",
    "\n",
    "Typically used to hold data that are related, such as the information contained in an ID, a dictionary looks like this:\n",
    "\n",
    "### 9.1 Basics\n"
   ]
  },
  {
   "cell_type": "code",
   "execution_count": 390,
   "metadata": {
    "collapsed": false
   },
   "outputs": [
    {
     "data": {
      "text/plain": [
       "{'milk': 1.5, 'soap': 3}"
      ]
     },
     "execution_count": 390,
     "metadata": {},
     "output_type": "execute_result"
    }
   ],
   "source": [
    "# Creating a dictionary\n",
    "shoppinglist = ['soap', 'milk']\n",
    "shoppingdict = {'soap': 3, 'milk': 1.5}\n",
    "shoppingdict"
   ]
  },
  {
   "cell_type": "code",
   "execution_count": 391,
   "metadata": {
    "collapsed": false
   },
   "outputs": [
    {
     "data": {
      "text/plain": [
       "3"
      ]
     },
     "execution_count": 391,
     "metadata": {},
     "output_type": "execute_result"
    }
   ],
   "source": [
    "# Selecting\n",
    "shoppingdict['soap']"
   ]
  },
  {
   "cell_type": "code",
   "execution_count": 392,
   "metadata": {
    "collapsed": false
   },
   "outputs": [
    {
     "data": {
      "text/plain": [
       "1.5"
      ]
     },
     "execution_count": 392,
     "metadata": {},
     "output_type": "execute_result"
    }
   ],
   "source": [
    "shoppingdict['milk']"
   ]
  },
  {
   "cell_type": "code",
   "execution_count": 393,
   "metadata": {
    "collapsed": false
   },
   "outputs": [
    {
     "data": {
      "text/plain": [
       "{'juice': 4, 'milk': 1.5, 'soap': 3}"
      ]
     },
     "execution_count": 393,
     "metadata": {},
     "output_type": "execute_result"
    }
   ],
   "source": [
    "# Adding to the dictionary\n",
    "shoppingdict['juice'] = 4\n",
    "shoppingdict"
   ]
  },
  {
   "cell_type": "markdown",
   "metadata": {},
   "source": [
    "### 9.2 Looping Through a Dictionary"
   ]
  },
  {
   "cell_type": "code",
   "execution_count": 394,
   "metadata": {
    "collapsed": false
   },
   "outputs": [
    {
     "data": {
      "text/plain": [
       "8.5"
      ]
     },
     "execution_count": 394,
     "metadata": {},
     "output_type": "execute_result"
    }
   ],
   "source": [
    "total = 0\n",
    "for key, value in shoppingdict.items():\n",
    "    total += value\n",
    "total"
   ]
  },
  {
   "cell_type": "markdown",
   "metadata": {},
   "source": [
    "### 9.3 Practice\n",
    "\n",
    "#### Display the value for the key 'milk'\n",
    "```\n",
    "shoppingcart = {'soap': 'Y', 'milk': 'N'}\n",
    "```\n",
    "\n",
    "#### Complete the following by summing only items in the shoppingcart?\n",
    "```\n",
    "shoppingdict = {'soap': 3, 'milk': 1.5}\n",
    "shoppingcart = {'soap': 'Y', 'milk': 'N'}\n",
    "\n",
    "for key, value in shoppingdict.items():\n",
    "    if XXXXXXXXXXXXXXX:\n",
    "        total += value\n",
    "```"
   ]
  },
  {
   "cell_type": "markdown",
   "metadata": {},
   "source": [
    "![alt text](https://unsplash.it/1024/300/?random)\n",
    "\n",
    "\n",
    "## 10 Your Own Functions\n",
    "\n",
    "Let’s start with turning the classic “Hello, World!” program into a function.\n",
    "\n",
    "We’ll create a new text file in our text editor of choice, and call the program hello.py. Then, we’ll define the function.\n",
    "\n",
    "A function is defined by using the def keyword, followed by a name of your choosing, followed by a set of parentheses which hold any parameters the function will take (they can be empty), and ending with a colon.\n",
    "\n",
    "\n",
    "### 10.1 Basics\n",
    "\n",
    "In this case, we’ll define a function named hello():"
   ]
  },
  {
   "cell_type": "code",
   "execution_count": 395,
   "metadata": {
    "collapsed": true
   },
   "outputs": [],
   "source": [
    "def hello():\n",
    "    print(\"Hello, World!\")"
   ]
  },
  {
   "cell_type": "markdown",
   "metadata": {},
   "source": [
    "Our function is now fully defined, but if we run the program at this point, nothing will happen since we didn’t call the function.\n",
    "\n",
    "So, outside of our defined function block, let’s call the function with hello():"
   ]
  },
  {
   "cell_type": "code",
   "execution_count": 396,
   "metadata": {
    "collapsed": false
   },
   "outputs": [
    {
     "name": "stdout",
     "output_type": "stream",
     "text": [
      "Hello, World!\n"
     ]
    }
   ],
   "source": [
    "def hello():\n",
    "    print(\"Hello, World!\")\n",
    "\n",
    "hello()\n"
   ]
  },
  {
   "cell_type": "markdown",
   "metadata": {},
   "source": [
    "You can pass a parameter value into a function, and a function can also produce a value.\n",
    "\n",
    "A function can produce a value with the return statement, which will exit a function and optionally pass an expression back to the caller. If you use a return statement with no arguments, the function will return None."
   ]
  },
  {
   "cell_type": "code",
   "execution_count": 397,
   "metadata": {
    "collapsed": false
   },
   "outputs": [
    {
     "data": {
      "text/plain": [
       "200000.0"
      ]
     },
     "execution_count": 397,
     "metadata": {},
     "output_type": "execute_result"
    }
   ],
   "source": [
    "def calculate_downpayment():\n",
    "    return 1000000 * 0.2\n",
    "\n",
    "calculate_downpayment()\n"
   ]
  },
  {
   "cell_type": "markdown",
   "metadata": {},
   "source": [
    "### 10.2 Parameters\n",
    "\n",
    "So far we have looked at functions with empty parentheses that do not take arguments, but we can define parameters in function definitions within their parentheses.\n",
    "\n",
    "A parameter is a named entity in a function definition, specifying an argument that the function can accept."
   ]
  },
  {
   "cell_type": "code",
   "execution_count": 398,
   "metadata": {
    "collapsed": false
   },
   "outputs": [
    {
     "data": {
      "text/plain": [
       "200000.0"
      ]
     },
     "execution_count": 398,
     "metadata": {},
     "output_type": "execute_result"
    }
   ],
   "source": [
    "def calculate_downpayment(house_price):\n",
    "    return house_price * 0.2\n",
    "\n",
    "calculate_downpayment(1000000)"
   ]
  },
  {
   "cell_type": "code",
   "execution_count": 399,
   "metadata": {
    "collapsed": false
   },
   "outputs": [
    {
     "data": {
      "text/plain": [
       "200000.0"
      ]
     },
     "execution_count": 399,
     "metadata": {},
     "output_type": "execute_result"
    }
   ],
   "source": [
    "# Default value\n",
    "def calculate_downpayment(house_price=1000000):\n",
    "    return house_price * 0.2\n",
    "\n",
    "calculate_downpayment()"
   ]
  },
  {
   "cell_type": "code",
   "execution_count": 400,
   "metadata": {
    "collapsed": false
   },
   "outputs": [
    {
     "data": {
      "text/plain": [
       "200000.0"
      ]
     },
     "execution_count": 400,
     "metadata": {},
     "output_type": "execute_result"
    }
   ],
   "source": [
    "# Multiple Parameters\n",
    "def calculate_downpayment(house_price=1000000, rate=0.2):\n",
    "    return house_price * rate\n",
    "\n",
    "calculate_downpayment()"
   ]
  },
  {
   "cell_type": "code",
   "execution_count": 401,
   "metadata": {
    "collapsed": false
   },
   "outputs": [
    {
     "data": {
      "text/plain": [
       "0.020000000000000004"
      ]
     },
     "execution_count": 401,
     "metadata": {},
     "output_type": "execute_result"
    }
   ],
   "source": [
    "# For second paramter must include name\n",
    "calculate_downpayment(0.1)"
   ]
  },
  {
   "cell_type": "code",
   "execution_count": 402,
   "metadata": {
    "collapsed": false
   },
   "outputs": [
    {
     "data": {
      "text/plain": [
       "100000.0"
      ]
     },
     "execution_count": 402,
     "metadata": {},
     "output_type": "execute_result"
    }
   ],
   "source": [
    "calculate_downpayment(rate=0.1)"
   ]
  },
  {
   "cell_type": "markdown",
   "metadata": {},
   "source": [
    "### 10.3 Function Returns\n",
    "\n",
    "The Return statement can be more complex than just returning a single value"
   ]
  },
  {
   "cell_type": "code",
   "execution_count": 403,
   "metadata": {
    "collapsed": false
   },
   "outputs": [
    {
     "data": {
      "text/plain": [
       "{'downpayment': 200000.0, 'loan': 800000.0}"
      ]
     },
     "execution_count": 403,
     "metadata": {},
     "output_type": "execute_result"
    }
   ],
   "source": [
    "# Return a dictionary\n",
    "def calculate_downpayment(house_price=1000000, rate=0.2):\n",
    "    return { 'downpayment' : house_price * rate, 'loan': house_price * (1-rate)}\n",
    "\n",
    "calculate_downpayment()"
   ]
  },
  {
   "cell_type": "code",
   "execution_count": 404,
   "metadata": {
    "collapsed": false
   },
   "outputs": [
    {
     "data": {
      "text/plain": [
       "200000.0"
      ]
     },
     "execution_count": 404,
     "metadata": {},
     "output_type": "execute_result"
    }
   ],
   "source": [
    "x = calculate_downpayment()\n",
    "x['downpayment']"
   ]
  },
  {
   "cell_type": "code",
   "execution_count": 405,
   "metadata": {
    "collapsed": false
   },
   "outputs": [
    {
     "data": {
      "text/plain": [
       "800000.0"
      ]
     },
     "execution_count": 405,
     "metadata": {},
     "output_type": "execute_result"
    }
   ],
   "source": [
    "x['loan']"
   ]
  },
  {
   "cell_type": "markdown",
   "metadata": {},
   "source": [
    "### 10.4 Practice\n",
    "\n",
    "#### Create a Function that can debit and credit a bank account\n",
    "```\n",
    "def account(starting, debit=0, credit=0):\n",
    "\n",
    "    # Add Code here\n",
    "    \n",
    "\n",
    "    return ending value\n",
    "```\n",
    "\n",
    "#### Edit the function such that if you have >0 properties then your rate is 0.3 instead of 0.2\n",
    "```\n",
    "def calculate_downpayment(house_price=1000000, properties=0):\n",
    "\n",
    "    # If else....\n",
    "\n",
    "\n",
    "    return house_price * rate\n",
    "```"
   ]
  },
  {
   "cell_type": "markdown",
   "metadata": {},
   "source": [
    "![alt text](https://unsplash.it/1024/300/?random)\n",
    "\n",
    "## 11 Classes\n",
    "\n",
    "Python is an object-oriented programming language. Object-oriented programming (OOP) focuses on creating reusable patterns of code, in contrast to procedural programming, which focuses on explicit sequenced instructions. When working on complex programs in particular, object-oriented programming lets you reuse code and write code that is more readable, which in turn makes it more maintainable.\n",
    "\n",
    "One of the most important concepts in object-oriented programming is the distinction between classes and objects, which are defined as follows:\n",
    "\n",
    "Class — A blueprint created by a programmer for an object. This defines a set of attributes that will characterize any object that is instantiated from this class.\n",
    "\n",
    "Object — An instance of a class. This is the realized version of the class, where the class is manifested in the program.\n",
    "\n",
    "These are used to create patterns (in the case of classes) and then make use of the patterns (in the case of objects).\n",
    "\n",
    "\n",
    "### 11.1 Classes\n",
    "\n",
    "Classes are like a blueprint or a prototype that you can define to use to create objects.\n",
    "\n",
    "We define classes by using the class keyword, similar to how we define functions by using the def keyword.\n",
    "\n",
    "Let’s define a class called Shark that has two functions associated with it, one for swimming and one for being awesome:"
   ]
  },
  {
   "cell_type": "code",
   "execution_count": 406,
   "metadata": {
    "collapsed": true
   },
   "outputs": [],
   "source": [
    "class Shark:\n",
    "    def swim(self):\n",
    "        print(\"The shark is swimming.\")\n",
    "\n",
    "    def be_awesome(self):\n",
    "        print(\"The shark is being awesome.\")"
   ]
  },
  {
   "cell_type": "markdown",
   "metadata": {},
   "source": [
    "### 11.2 Objects\n",
    "\n",
    "An object is an instance of a class. We can take the Shark class defined above, and use it to create an object or instance of it.\n",
    "\n",
    "We’ll make a Shark object called sammy:"
   ]
  },
  {
   "cell_type": "code",
   "execution_count": 407,
   "metadata": {
    "collapsed": false
   },
   "outputs": [
    {
     "name": "stdout",
     "output_type": "stream",
     "text": [
      "The shark is swimming.\n",
      "The shark is being awesome.\n"
     ]
    }
   ],
   "source": [
    "sammy = Shark()\n",
    "sammy.swim()\n",
    "sammy.be_awesome()"
   ]
  },
  {
   "cell_type": "markdown",
   "metadata": {},
   "source": [
    "Lets convert the previous example into a class"
   ]
  },
  {
   "cell_type": "code",
   "execution_count": 408,
   "metadata": {
    "collapsed": true
   },
   "outputs": [],
   "source": [
    "class SGLoanCalculator:\n",
    "    def calculate_downpayment(self, house_price):\n",
    "        return house_price * 0.2\n",
    "\n",
    "    def calculate_grant(self, type_house):\n",
    "        if type_house == 'ec':\n",
    "            return 30000\n",
    "        else:\n",
    "            return 0"
   ]
  },
  {
   "cell_type": "code",
   "execution_count": 409,
   "metadata": {
    "collapsed": false
   },
   "outputs": [
    {
     "data": {
      "text/plain": [
       "200000.0"
      ]
     },
     "execution_count": 409,
     "metadata": {},
     "output_type": "execute_result"
    }
   ],
   "source": [
    "# Create object calculation1\n",
    "calculation1 = SGLoanCalculator()\n",
    "calculation1.calculate_downpayment(1000000)"
   ]
  },
  {
   "cell_type": "code",
   "execution_count": 410,
   "metadata": {
    "collapsed": false
   },
   "outputs": [
    {
     "data": {
      "text/plain": [
       "30000"
      ]
     },
     "execution_count": 410,
     "metadata": {},
     "output_type": "execute_result"
    }
   ],
   "source": [
    "calculation1.calculate_grant('ec')"
   ]
  },
  {
   "cell_type": "code",
   "execution_count": 411,
   "metadata": {
    "collapsed": false
   },
   "outputs": [
    {
     "data": {
      "text/plain": [
       "120000.0"
      ]
     },
     "execution_count": 411,
     "metadata": {},
     "output_type": "execute_result"
    }
   ],
   "source": [
    "# Another object\n",
    "calculation2 = SGLoanCalculator()\n",
    "calculation2.calculate_downpayment(600000)"
   ]
  },
  {
   "cell_type": "markdown",
   "metadata": {},
   "source": [
    "### 11.3 The Constructor Method\n",
    "\n",
    "The constructor method is used to initialize data. It is run as soon as an object of a class is instantiated. Also known as the __init__ method, it will be the first definition of a class and looks like this:"
   ]
  },
  {
   "cell_type": "code",
   "execution_count": 412,
   "metadata": {
    "collapsed": true
   },
   "outputs": [],
   "source": [
    "class SGLoanCalculator:\n",
    "    \n",
    "    def __init__(self, house_price, type_house):\n",
    "        self.house_price = house_price\n",
    "        self.type_house = type_house\n",
    "        \n",
    "    def calculate_downpayment(self):\n",
    "        return self.house_price * 0.2\n",
    "\n",
    "    def calculate_grant(self):\n",
    "        if self.type_house == 'ec':\n",
    "            return 30000\n",
    "        else:\n",
    "            return 0"
   ]
  },
  {
   "cell_type": "markdown",
   "metadata": {},
   "source": [
    "Because the constructor method is automatically initialized, we do not need to explicitly call it, only pass the arguments in the parentheses following the class name when we create a new instance of the class."
   ]
  },
  {
   "cell_type": "code",
   "execution_count": 413,
   "metadata": {
    "collapsed": false
   },
   "outputs": [],
   "source": [
    "person1 = SGLoanCalculator(800000, 'ec')"
   ]
  },
  {
   "cell_type": "code",
   "execution_count": 414,
   "metadata": {
    "collapsed": false
   },
   "outputs": [
    {
     "data": {
      "text/plain": [
       "160000.0"
      ]
     },
     "execution_count": 414,
     "metadata": {},
     "output_type": "execute_result"
    }
   ],
   "source": [
    "person1.calculate_downpayment()"
   ]
  },
  {
   "cell_type": "code",
   "execution_count": 415,
   "metadata": {
    "collapsed": false
   },
   "outputs": [
    {
     "data": {
      "text/plain": [
       "30000"
      ]
     },
     "execution_count": 415,
     "metadata": {},
     "output_type": "execute_result"
    }
   ],
   "source": [
    "person1.calculate_grant()"
   ]
  },
  {
   "cell_type": "markdown",
   "metadata": {},
   "source": [
    "Making it more useful"
   ]
  },
  {
   "cell_type": "code",
   "execution_count": 416,
   "metadata": {
    "collapsed": true
   },
   "outputs": [],
   "source": [
    "class SGLoanCalculator:\n",
    "    \n",
    "    def __init__(self, house_price, type_house):\n",
    "        self.house_price = house_price\n",
    "        self.type_house = type_house\n",
    "        \n",
    "    def calculate_downpayment(self):\n",
    "        return self.house_price * 0.2\n",
    "\n",
    "    def calculate_grant(self):\n",
    "        if self.type_house == 'ec':\n",
    "            return 30000\n",
    "        else:\n",
    "            return 0\n",
    "\n",
    "    def final_calculation(self):\n",
    "        \n",
    "        final_downpayment = self.calculate_downpayment() - self.calculate_grant()\n",
    "        \n",
    "        print('Your final downpayment is ' +str(final_downpayment))"
   ]
  },
  {
   "cell_type": "code",
   "execution_count": 417,
   "metadata": {
    "collapsed": true
   },
   "outputs": [],
   "source": [
    "person1 = SGLoanCalculator(800000, 'ec')"
   ]
  },
  {
   "cell_type": "code",
   "execution_count": 418,
   "metadata": {
    "collapsed": false
   },
   "outputs": [
    {
     "name": "stdout",
     "output_type": "stream",
     "text": [
      "Your final downpayment is 130000.0\n"
     ]
    }
   ],
   "source": [
    "person1.final_calculation()"
   ]
  },
  {
   "cell_type": "markdown",
   "metadata": {},
   "source": [
    "### 11.4 Practice\n",
    "\n",
    "Can you understand how this works?"
   ]
  },
  {
   "cell_type": "code",
   "execution_count": 419,
   "metadata": {
    "collapsed": true
   },
   "outputs": [],
   "source": [
    "class PropertyCalculator():\n",
    "\n",
    "\n",
    "    def __init__(self, property_value=1000000, loan_value=800000):\n",
    "        self.property_value = property_value\n",
    "        self.loan_value = loan_value\n",
    "\n",
    "    def calculate_initial(self):\n",
    "        \"\"\"\n",
    "        Calculate Initial Payment\n",
    "        \"\"\"\n",
    "        cash = 0.05\n",
    "        cpf = 0.15\n",
    "\n",
    "        property_min_cash = cash * self.property_value\n",
    "        property_cpf = cpf * self.property_value\n",
    "\n",
    "        agent_fee = 0\n",
    "        legal_fee = 0.003 * self.property_value\n",
    "        stamp_duty = 0.0246 * self.property_value\n",
    "        valuation_fee = 500\n",
    "        \n",
    "        total_fees = agent_fee + legal_fee + stamp_duty + valuation_fee\n",
    "        \n",
    "        return {'cpf': property_cpf, 'cash': property_min_cash, 'total': total_fees}"
   ]
  },
  {
   "cell_type": "code",
   "execution_count": 420,
   "metadata": {
    "collapsed": true
   },
   "outputs": [],
   "source": [
    "person1 = PropertyCalculator()"
   ]
  },
  {
   "cell_type": "code",
   "execution_count": 421,
   "metadata": {
    "collapsed": false
   },
   "outputs": [
    {
     "data": {
      "text/plain": [
       "{'cash': 50000.0, 'cpf': 150000.0, 'total': 28100.0}"
      ]
     },
     "execution_count": 421,
     "metadata": {},
     "output_type": "execute_result"
    }
   ],
   "source": [
    "person1.calculate_initial()"
   ]
  },
  {
   "cell_type": "markdown",
   "metadata": {},
   "source": [
    "Can you recreate the Account (Debit/Credit) function previously as a Class?"
   ]
  },
  {
   "cell_type": "markdown",
   "metadata": {
    "collapsed": true
   },
   "source": [
    "![alt text](https://unsplash.it/1024/300/?random)\n",
    "\n",
    "## 12 Starting A Flask Project\n",
    "\n",
    "### Terminal\n",
    "```\n",
    "# create an empty directory for our project\n",
    "mkdir lambda-hello-world\n",
    "cd lambda-hello-world\n",
    " \n",
    "# Init the Pipfile and a virtual environment for the project.\n",
    "pipenv --three\n",
    " \n",
    "# activate the virtual environment\n",
    "pipenv shell\n",
    " \n",
    "# install Zappa and Flask along with the AWS command line tools\n",
    "pipenv install zappa flask\n",
    "pipenv install --dev awscli\n",
    " \n",
    "# optionally install some handy development tools inside the virtual environment\n",
    "pipenv install --dev flake8 autopep8 ipython\n",
    "```\n",
    "\n",
    "### Project Management (pipenv)\n",
    "\n",
    "http://docs.pipenv.org/en/latest/\n",
    "\n",
    "```\n",
    "$ pipenv\n",
    "Usage: pipenv [OPTIONS] COMMAND [ARGS]...\n",
    "\n",
    "Options:\n",
    "  --where          Output project home information.\n",
    "  --venv           Output virtualenv information.\n",
    "  --rm             Remove the virtualenv.\n",
    "  --bare           Minimal output.\n",
    "  --three / --two  Use Python 3/2 when creating virtualenv.\n",
    "  --python TEXT    Specify which version of Python virtualenv should use.\n",
    "  -h, --help       Show this message then exit.\n",
    "  --version        Show the version and exit.\n",
    "\n",
    "\n",
    "Usage Examples:\n",
    "   Create a new project using Python 3:\n",
    "   $ pipenv --three\n",
    "\n",
    "   Install all dependencies for a project (including dev):\n",
    "   $ pipenv install --dev\n",
    "\n",
    "   Create a lockfile:\n",
    "   $ pipenv lock\n",
    "\n",
    "Commands:\n",
    "  check      Checks PEP 508 markers provided in Pipfile.\n",
    "  install    Installs provided packages and adds them to...\n",
    "  lock       Generates Pipfile.lock.\n",
    "  run        Spawns a command installed into the...\n",
    "  shell      Spawns a shell within the virtualenv.\n",
    "  uninstall  Un-installs a provided package and removes it...\n",
    "  update     Updates pip to latest version, uninstalls all...\n",
    "```"
   ]
  },
  {
   "cell_type": "markdown",
   "metadata": {},
   "source": [
    "### hello_world.py"
   ]
  },
  {
   "cell_type": "code",
   "execution_count": null,
   "metadata": {
    "collapsed": true
   },
   "outputs": [],
   "source": [
    "from flask import Flask\n",
    " \n",
    "app = Flask(__name__)\n",
    " \n",
    "@app.route('/')\n",
    "def index():\n",
    "    return \"Hello, world!\", 200\n",
    " \n",
    "# We only need this for local development.\n",
    "if __name__ == '__main__':\n",
    "    app.run()"
   ]
  },
  {
   "cell_type": "markdown",
   "metadata": {},
   "source": [
    "### Terminal\n",
    "```\n",
    "# Set Enivroment Variable\n",
    "export FLASK_APP=hello_world.py\n",
    "\n",
    "# Run Flask app\n",
    "flask run\n",
    "```"
   ]
  },
  {
   "cell_type": "code",
   "execution_count": null,
   "metadata": {
    "collapsed": true
   },
   "outputs": [],
   "source": []
  }
 ],
 "metadata": {
  "kernelspec": {
   "display_name": "Python 3",
   "language": "python",
   "name": "python3"
  },
  "language_info": {
   "codemirror_mode": {
    "name": "ipython",
    "version": 3
   },
   "file_extension": ".py",
   "mimetype": "text/x-python",
   "name": "python",
   "nbconvert_exporter": "python",
   "pygments_lexer": "ipython3",
   "version": "3.4.4"
  }
 },
 "nbformat": 4,
 "nbformat_minor": 0
}
